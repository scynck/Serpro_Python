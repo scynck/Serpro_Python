{
 "cells": [
  {
   "cell_type": "markdown",
   "metadata": {},
   "source": [
    "Listas"
   ]
  },
  {
   "cell_type": "code",
   "execution_count": 11,
   "metadata": {},
   "outputs": [
    {
     "name": "stdout",
     "output_type": "stream",
     "text": [
      "['Pera', 'Uva']\n",
      "['Banana', 'Maçã', 'Pera', 'Uva', 'Morango', 'Melancia']\n",
      "None\n"
     ]
    }
   ],
   "source": [
    "frutas = ['Banana', 'Maçã', 'Pera', 'Uva', \"Morango\"]\n",
    "print(frutas[2:4])\n",
    "\n",
    "frutas.append(\"Melancia\")\n",
    "print(frutas)\n",
    "\n",
    "frutas = frutas + [\"Tomate\"]\n",
    "\n",
    "\n"
   ]
  },
  {
   "cell_type": "code",
   "execution_count": 14,
   "metadata": {},
   "outputs": [
    {
     "name": "stdout",
     "output_type": "stream",
     "text": [
      "[0, 1, 2, 4, 5, 10]\n"
     ]
    }
   ],
   "source": [
    "def bubblesort(vector):\n",
    "    for i in range(len(vector) - 1):\n",
    "        for j in range(len(vector) - 1):\n",
    "            a = vector[j]\n",
    "            b = vector[j+1]\n",
    "            if a > b:\n",
    "                vector[j+1], vector[j] = vector[j], vector[j+1]\n",
    "    return vector\n",
    "vec = [5, 4, 2, 1, 10, 0]\n",
    "print(bubblesort(vec))\n"
   ]
  },
  {
   "cell_type": "code",
   "execution_count": 21,
   "metadata": {},
   "outputs": [
    {
     "name": "stdout",
     "output_type": "stream",
     "text": [
      "Meu nome é Fulano e tenho 19 anos\n",
      "O título é Doutora\n"
     ]
    }
   ],
   "source": [
    "class Pessoa():\n",
    "\n",
    "    def __init__(self, nome, idade):\n",
    "        self.nome = nome\n",
    "        self.idade = idade\n",
    "\n",
    "    def saudacao(self):\n",
    "        print(f\"Meu nome é {self.nome} e tenho {self.idade} anos\")\n",
    "\n",
    "class Funcionario(Pessoa):\n",
    "    def __init__(self, nome, idade, titulo):\n",
    "        super().__init__(nome, idade)\n",
    "        self.titulo = titulo\n",
    "    \n",
    "    def info(self):\n",
    "        print(f'O título é {self.titulo}')\n",
    "\n",
    "\n",
    "fulano = Pessoa(\"Fulano\", 19)\n",
    "beltrano = Pessoa(\"Beltrano\", 20)\n",
    "fulano.saudacao()\n",
    "beltrano.nome\n",
    "adelaide = Funcionario(\"Adelaide\", 11, \"Doutora\")\n",
    "adelaide.info()\n"
   ]
  },
  {
   "cell_type": "code",
   "execution_count": 1,
   "metadata": {},
   "outputs": [
    {
     "data": {
      "text/plain": [
       "'Fulano'"
      ]
     },
     "execution_count": 1,
     "metadata": {},
     "output_type": "execute_result"
    }
   ],
   "source": [
    "class Livro():\n",
    "    def __init__(self, titulo, autor):\n",
    "        self.titulo = titulo\n",
    "        self.autor = autor\n",
    "\n",
    "livro_1 = Livro(\"o auto\", \"Fulano\")\n",
    "livro_2 = Livro(\"sim\", \"Beltrano\")\n",
    "livro_1.autor"
   ]
  },
  {
   "cell_type": "code",
   "execution_count": 2,
   "metadata": {},
   "outputs": [
    {
     "name": "stdout",
     "output_type": "stream",
     "text": [
      "150\n"
     ]
    }
   ],
   "source": [
    "class ContaBancaria():\n",
    "    def __init__(self, saldo_inicial) -> None:\n",
    "        self.saldo = saldo_inicial\n",
    "    \n",
    "    def deposito(self, valor) -> None:\n",
    "        self.saldo += valor\n",
    "\n",
    "    def saque(self, valor) -> None:\n",
    "        if valor > self.saldo:\n",
    "            print(\"Saldo insuficiente\")\n",
    "        else:\n",
    "            self.saldo -= valor\n",
    "\n",
    "    def verificarSaldo(self) -> None:\n",
    "        print(self.saldo)\n",
    "\n",
    "\n",
    "\n",
    "conta_1 = ContaBancaria(100)\n",
    "conta_1.deposito(200)\n",
    "conta_1.saque(150)\n",
    "conta_1.verificarSaldo()\n"
   ]
  },
  {
   "cell_type": "code",
   "execution_count": 5,
   "metadata": {},
   "outputs": [
    {
     "name": "stdout",
     "output_type": "stream",
     "text": [
      "31.41592653589793\n",
      "6.283185307179586\n"
     ]
    }
   ],
   "source": [
    "import math\n",
    "class Circulo():\n",
    "    def __init__(self, raio) -> None:\n",
    "        self.raio = raio\n",
    "    \n",
    "    def calculaArea(self):\n",
    "        self.area = math.pi * self.raio ** 2\n",
    "        return self.area\n",
    "    \n",
    "    def calculaPerimetro(self):\n",
    "        self.perimetro = 2 * math.pi * self.raio\n",
    "        return self.perimetro\n",
    "    \n",
    "\n",
    "class Cilindro(Circulo):\n",
    "    def __init__(self, raio, altura) -> None:\n",
    "        super().__init__(raio)\n",
    "        self.altura = altura\n",
    "\n",
    "    def calculaVolume(self):\n",
    "        self.volume = super().calculaArea() * self.altura\n",
    "        return self.volume\n",
    "    \n",
    "\n",
    "cilindro = Cilindro(raio=1, altura=10)\n",
    "print(cilindro.calculaVolume())\n",
    "print(cilindro.calculaPerimetro())\n",
    "\n"
   ]
  },
  {
   "cell_type": "code",
   "execution_count": 9,
   "metadata": {},
   "outputs": [
    {
     "data": {
      "text/plain": [
       "2"
      ]
     },
     "execution_count": 9,
     "metadata": {},
     "output_type": "execute_result"
    }
   ],
   "source": [
    "dicionario = {\"livro_1\" : 5, \n",
    "              \"livro_2\" : 6,\n",
    "              \"livro_3\" : 2}\n",
    "dicionario[\"livro_3\"]"
   ]
  },
  {
   "cell_type": "code",
   "execution_count": 1,
   "metadata": {},
   "outputs": [
    {
     "name": "stdout",
     "output_type": "stream",
     "text": [
      "{}\n"
     ]
    },
    {
     "data": {
      "text/plain": [
       "3"
      ]
     },
     "execution_count": 1,
     "metadata": {},
     "output_type": "execute_result"
    }
   ],
   "source": [
    "class Livro():\n",
    "    def __init__(self, titulo, autor, quantidade_disponivel) -> None:\n",
    "        self.titulo = titulo\n",
    "        self.autor = autor\n",
    "        self.quantidade_disponivel = quantidade_disponivel\n",
    "    \n",
    "    def emprestar(self, quantidade):\n",
    "        self.quantidade_disponivel -= quantidade\n",
    "\n",
    "    def devolver (self, quantidade):\n",
    "        self.quantidade_disponivel += quantidade\n",
    "\n",
    "\n",
    "class Autor():\n",
    "    def __init__(self, nome) -> None:\n",
    "        pass\n",
    "\n",
    "class Usuario():\n",
    "    def __init__(self, nome) -> None:\n",
    "        self.nome = nome\n",
    "        self.livros = dict()\n",
    "\n",
    "    def pegarEmprestado(self, livro, quantidade):\n",
    "        print(self.livros)\n",
    "        self.livros[livro.titulo] = quantidade\n",
    "        livro.emprestar(quantidade)\n",
    "\n",
    "    def devolver(self,livro,quantidade):\n",
    "        self.livros[livro.titulo] = quantidade\n",
    "        livro.devolver(quantidade)\n",
    "\n",
    "    def livrosEmPosse(self):\n",
    "        print(self.livros)\n",
    "\n",
    "livro_1 = Livro(\"o auto\", \"Fulano\", 5)\n",
    "usuario_1 = Usuario(\"Adelaide\")\n",
    "usuario_1.pegarEmprestado(livro_1, 2)\n",
    "usuario_1.livrosEmPosse\n",
    "livro_1.quantidade_disponivel\n"
   ]
  }
 ],
 "metadata": {
  "kernelspec": {
   "display_name": "venv",
   "language": "python",
   "name": "python3"
  },
  "language_info": {
   "codemirror_mode": {
    "name": "ipython",
    "version": 3
   },
   "file_extension": ".py",
   "mimetype": "text/x-python",
   "name": "python",
   "nbconvert_exporter": "python",
   "pygments_lexer": "ipython3",
   "version": "3.8.8"
  },
  "orig_nbformat": 4
 },
 "nbformat": 4,
 "nbformat_minor": 2
}
